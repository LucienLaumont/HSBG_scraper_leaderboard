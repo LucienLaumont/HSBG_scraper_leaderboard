{
 "cells": [
  {
   "cell_type": "markdown",
   "id": "93bd3213",
   "metadata": {},
   "source": [
    "# **ANALYSIS S3 - HSBG - EU**"
   ]
  },
  {
   "cell_type": "markdown",
   "id": "fc990f37",
   "metadata": {},
   "source": [
    "## **Context**\n",
    "\n",
    "During Season 3 of *Hearthstone Battlegrounds*, all players who played at least one game were included in the official leaderboard published by Blizzard:  \n",
    "👉 [Blizzard Leaderboard – Season 3](https://hearthstone.blizzard.com/fr-fr/community/leaderboards/?region=US&leaderboardId=battlegrounds&seasonId=8)\n",
    "\n",
    "The EU region leaderboard features **1,265,910  players** with ratings ranging from **1 to 17,527**.\n",
    "\n",
    "These data were collected using Blizzard’s public API and are available in the `data/` folder.  \n",
    "⚠️ **Please do not run the extraction scripts**, as the data has already been retrieved and unnecessary API requests could overload Blizzard’s servers.\n"
   ]
  },
  {
   "cell_type": "markdown",
   "id": "49c0d9fa",
   "metadata": {},
   "source": [
    "## **Run the Jupyter Notebook**\n",
    "\n",
    "You can simply view the results in the notebook below. However, if you want to execute it yourself, you first need to create a virtual environment to install the required Python libraries.  \n",
    "Use the following commands:\n",
    "\n",
    "```bash\n",
    "python -m venv venv\n",
    "source venv/bin/activate        # On Windows: venv\\Scripts\\activate\n",
    "pip install -r requirements.txt\n",
    "````\n",
    "\n",
    "If you’ve collected data from another season or region, simply change the `path` variable accordingly.\n",
    "Currently, for Season 3 on the EU server, the path is:\n",
    "`path = \"data/s3/eu/battlegrounds.csv\"`\n",
    "\n",
    "If you’ve collected data from the NA server, just place the corresponding CSV file in the appropriate directory (or create it if it doesn't exist)."
   ]
  },
  {
   "cell_type": "markdown",
   "id": "253b21f8",
   "metadata": {},
   "source": [
    "## **DATA LOADING - From scraping file**"
   ]
  },
  {
   "cell_type": "code",
   "execution_count": 9,
   "id": "cd21007c",
   "metadata": {},
   "outputs": [
    {
     "data": {
      "text/html": [
       "<div>\n",
       "<style scoped>\n",
       "    .dataframe tbody tr th:only-of-type {\n",
       "        vertical-align: middle;\n",
       "    }\n",
       "\n",
       "    .dataframe tbody tr th {\n",
       "        vertical-align: top;\n",
       "    }\n",
       "\n",
       "    .dataframe thead th {\n",
       "        text-align: right;\n",
       "    }\n",
       "</style>\n",
       "<table border=\"1\" class=\"dataframe\">\n",
       "  <thead>\n",
       "    <tr style=\"text-align: right;\">\n",
       "      <th></th>\n",
       "      <th>rank</th>\n",
       "      <th>accountid</th>\n",
       "      <th>rating</th>\n",
       "    </tr>\n",
       "  </thead>\n",
       "  <tbody>\n",
       "    <tr>\n",
       "      <th>0</th>\n",
       "      <td>1</td>\n",
       "      <td>LOUDER</td>\n",
       "      <td>17527</td>\n",
       "    </tr>\n",
       "    <tr>\n",
       "      <th>1</th>\n",
       "      <td>2</td>\n",
       "      <td>huyagaoshou</td>\n",
       "      <td>17245</td>\n",
       "    </tr>\n",
       "    <tr>\n",
       "      <th>2</th>\n",
       "      <td>3</td>\n",
       "      <td>Sevel</td>\n",
       "      <td>16688</td>\n",
       "    </tr>\n",
       "    <tr>\n",
       "      <th>3</th>\n",
       "      <td>4</td>\n",
       "      <td>douyumxjf</td>\n",
       "      <td>16054</td>\n",
       "    </tr>\n",
       "    <tr>\n",
       "      <th>4</th>\n",
       "      <td>5</td>\n",
       "      <td>wtybill</td>\n",
       "      <td>16034</td>\n",
       "    </tr>\n",
       "  </tbody>\n",
       "</table>\n",
       "</div>"
      ],
      "text/plain": [
       "   rank    accountid  rating\n",
       "0     1       LOUDER   17527\n",
       "1     2  huyagaoshou   17245\n",
       "2     3        Sevel   16688\n",
       "3     4    douyumxjf   16054\n",
       "4     5      wtybill   16034"
      ]
     },
     "execution_count": 9,
     "metadata": {},
     "output_type": "execute_result"
    }
   ],
   "source": [
    "import pandas as pd\n",
    "import matplotlib.pyplot as plt\n",
    "import numpy as np\n",
    "\n",
    "path = \"data/s3/eu/battlegrounds.csv\" # \"data/s3/na/battlegrounds.csv\"\n",
    "\n",
    "df = pd.read_csv(filepath_or_buffer=path, delimiter=\",\")\n",
    "df.head()"
   ]
  },
  {
   "cell_type": "markdown",
   "id": "1ceef6ca",
   "metadata": {},
   "source": [
    "To avoid including players with very low ratings who are likely inactive, you can set a minimum rating threshold."
   ]
  },
  {
   "cell_type": "code",
   "execution_count": 10,
   "id": "5b8a4639",
   "metadata": {},
   "outputs": [],
   "source": [
    "seuil = 0\n",
    "\n",
    "filtered_df = df[df['rating'] > seuil].copy()"
   ]
  },
  {
   "cell_type": "markdown",
   "id": "bcb47caa",
   "metadata": {},
   "source": [
    "## **FUNCTIONS & PLOTS**"
   ]
  },
  {
   "cell_type": "code",
   "execution_count": 11,
   "id": "f74f4b88",
   "metadata": {},
   "outputs": [],
   "source": [
    "def compute_rank_statistics(df: pd.DataFrame) -> pd.DataFrame:\n",
    "    \"\"\"\n",
    "    Computes descriptive statistics for the 'rating' column:\n",
    "    mean, median, quartiles, min, and max.\n",
    "    \"\"\"\n",
    "    stats = df['rating'].describe(percentiles=[0.25, 0.5, 0.75])\n",
    "    result = pd.DataFrame({\n",
    "        \"stat\": [\"mean\", \"min\", \"max\", \"Q1 (25%)\", \"median (50%)\", \"Q3 (75%)\"],\n",
    "        \"value\": [\n",
    "            round(stats[\"mean\"], 2),\n",
    "            int(stats[\"min\"]),\n",
    "            int(stats[\"max\"]),\n",
    "            int(stats[\"25%\"]),\n",
    "            int(stats[\"50%\"]),\n",
    "            int(stats[\"75%\"]),\n",
    "        ]\n",
    "    })\n",
    "    return result"
   ]
  },
  {
   "cell_type": "code",
   "execution_count": 12,
   "id": "11cf3491",
   "metadata": {},
   "outputs": [],
   "source": [
    "def create_rating_bins(df, bin_size=100):\n",
    "    \"\"\"\n",
    "    Groups player ratings into bins of a defined size,\n",
    "    and adds:\n",
    "    - 'percentile': percentage of players in each bin,\n",
    "    - 'cumulative_probability': cumulative percentage up to and including the current bin.\n",
    "    \"\"\"\n",
    "    max_rating = df['rating'].max()\n",
    "    bins = range(0, max_rating + bin_size, bin_size)\n",
    "\n",
    "    df['rating_bin'] = pd.cut(\n",
    "        df['rating'],\n",
    "        bins=bins,\n",
    "        right=False,\n",
    "        labels=[f\"{i}-{i + bin_size - 1}\" for i in bins[:-1]]\n",
    "    )\n",
    "    \n",
    "    result = df.groupby('rating_bin', observed=False).size().reset_index(name='count')\n",
    "\n",
    "    total = result['count'].sum()\n",
    "    result['percentile'] = (result['count'] / total * 100).round(2)\n",
    "    result['cumulative_probability'] = result['percentile'].cumsum().round(2)\n",
    "\n",
    "    return result"
   ]
  },
  {
   "cell_type": "code",
   "execution_count": 13,
   "id": "14fe7f44",
   "metadata": {},
   "outputs": [],
   "source": [
    "def plot_rating_distribution(df):\n",
    "    \"\"\"\n",
    "    Creates visualizations to understand the distribution of player ratings:\n",
    "    - Histogram\n",
    "    - Cumulative distribution curve\n",
    "    Includes vertical reference lines at 6000 and 8000.\n",
    "    \"\"\"\n",
    "    fig, axes = plt.subplots(1, 2, figsize=(15, 5))\n",
    "\n",
    "    # Histogram\n",
    "    axes[0].hist(df['rating'], bins=100, edgecolor='black', alpha=0.7)\n",
    "    axes[0].set_title('Rating Distribution')\n",
    "    axes[0].set_xlabel('Rating')\n",
    "    axes[0].set_ylabel('Number of Players')\n",
    "\n",
    "    # Vertical lines at 6000 and 8000\n",
    "    axes[0].axvline(x=6000, color='red', linestyle='--', linewidth=1, label='6000')\n",
    "    axes[0].axvline(x=8000, color='blue', linestyle='--', linewidth=1, label='8000')\n",
    "    axes[0].legend()\n",
    "\n",
    "    # Cumulative curve\n",
    "    sorted_ratings = np.sort(df['rating'])\n",
    "    y = np.arange(1, len(sorted_ratings) + 1) / len(sorted_ratings)\n",
    "    axes[1].plot(sorted_ratings, y)\n",
    "    axes[1].set_title('Cumulative Distribution')\n",
    "    axes[1].set_xlabel('Rating')\n",
    "    axes[1].set_ylabel('Cumulative Proportion')\n",
    "\n",
    "    # Vertical reference lines on the cumulative plot\n",
    "    axes[1].axvline(x=6000, color='red', linestyle='--', linewidth=1)\n",
    "    axes[1].axvline(x=8000, color='blue', linestyle='--', linewidth=1)\n",
    "\n",
    "    plt.tight_layout()\n",
    "    plt.show()"
   ]
  },
  {
   "cell_type": "markdown",
   "id": "62c9b358",
   "metadata": {},
   "source": [
    "## **DATA ANALYSIS**"
   ]
  },
  {
   "cell_type": "markdown",
   "id": "3622bd44",
   "metadata": {},
   "source": [
    "### **Player Distribution**\n",
    "\n",
    "The first aspect we want to visualize is how players are distributed.  \n",
    "We will compute key descriptive statistics to better understand this distribution:\n",
    "- **`Mean`**: the average rating, calculated by summing all ratings and dividing by the number of players.\n",
    "- **`Median`**: the middle rating that separates the top 50% of players from the bottom 50%.\n",
    "- **`First Quartile (Q1)`**: the value below which 25% of the players fall.\n",
    "- **`Third Quartile (Q3)`**: the value below which 75% of the players fall.\n",
    "\n",
    "These statistics provide a clearer view of the overall distribution and how ratings are spread across the player base."
   ]
  },
  {
   "cell_type": "code",
   "execution_count": 14,
   "id": "41004c87",
   "metadata": {},
   "outputs": [
    {
     "data": {
      "text/html": [
       "<div>\n",
       "<style scoped>\n",
       "    .dataframe tbody tr th:only-of-type {\n",
       "        vertical-align: middle;\n",
       "    }\n",
       "\n",
       "    .dataframe tbody tr th {\n",
       "        vertical-align: top;\n",
       "    }\n",
       "\n",
       "    .dataframe thead th {\n",
       "        text-align: right;\n",
       "    }\n",
       "</style>\n",
       "<table border=\"1\" class=\"dataframe\">\n",
       "  <thead>\n",
       "    <tr style=\"text-align: right;\">\n",
       "      <th></th>\n",
       "      <th>stat</th>\n",
       "      <th>value</th>\n",
       "    </tr>\n",
       "  </thead>\n",
       "  <tbody>\n",
       "    <tr>\n",
       "      <th>0</th>\n",
       "      <td>mean</td>\n",
       "      <td>3905.01</td>\n",
       "    </tr>\n",
       "    <tr>\n",
       "      <th>1</th>\n",
       "      <td>min</td>\n",
       "      <td>1.00</td>\n",
       "    </tr>\n",
       "    <tr>\n",
       "      <th>2</th>\n",
       "      <td>max</td>\n",
       "      <td>17527.00</td>\n",
       "    </tr>\n",
       "    <tr>\n",
       "      <th>3</th>\n",
       "      <td>Q1 (25%)</td>\n",
       "      <td>1882.00</td>\n",
       "    </tr>\n",
       "    <tr>\n",
       "      <th>4</th>\n",
       "      <td>median (50%)</td>\n",
       "      <td>4199.00</td>\n",
       "    </tr>\n",
       "    <tr>\n",
       "      <th>5</th>\n",
       "      <td>Q3 (75%)</td>\n",
       "      <td>6000.00</td>\n",
       "    </tr>\n",
       "  </tbody>\n",
       "</table>\n",
       "</div>"
      ],
      "text/plain": [
       "           stat     value\n",
       "0          mean   3905.01\n",
       "1           min      1.00\n",
       "2           max  17527.00\n",
       "3      Q1 (25%)   1882.00\n",
       "4  median (50%)   4199.00\n",
       "5      Q3 (75%)   6000.00"
      ]
     },
     "execution_count": 14,
     "metadata": {},
     "output_type": "execute_result"
    }
   ],
   "source": [
    "summary = compute_rank_statistics(df)\n",
    "summary.head(10)"
   ]
  },
  {
   "cell_type": "markdown",
   "id": "3c01ffb3",
   "metadata": {},
   "source": [
    "### **Bin-Based Analysis**\n",
    "\n",
    "We can now take a closer look at how players are distributed across rating intervals (bins).  \n",
    "You can adjust the bin size by modifying the `bin_size` variable.\n",
    "\n",
    "The resulting table contains four columns:\n",
    "- **`rating_bin`**: the rating interval,\n",
    "- **`count`**: the number of players within that interval,\n",
    "- **`percentile`**: the percentage of players in that specific bin,\n",
    "- **`cumulative_probability`**: the cumulative percentage of players up to and including that bin.\n",
    "\n",
    "This allows for a more detailed understanding of the distribution across different rating ranges.\n"
   ]
  },
  {
   "cell_type": "code",
   "execution_count": 15,
   "id": "53a595d6",
   "metadata": {},
   "outputs": [
    {
     "data": {
      "text/html": [
       "<div>\n",
       "<style scoped>\n",
       "    .dataframe tbody tr th:only-of-type {\n",
       "        vertical-align: middle;\n",
       "    }\n",
       "\n",
       "    .dataframe tbody tr th {\n",
       "        vertical-align: top;\n",
       "    }\n",
       "\n",
       "    .dataframe thead th {\n",
       "        text-align: right;\n",
       "    }\n",
       "</style>\n",
       "<table border=\"1\" class=\"dataframe\">\n",
       "  <thead>\n",
       "    <tr style=\"text-align: right;\">\n",
       "      <th></th>\n",
       "      <th>rating_bin</th>\n",
       "      <th>count</th>\n",
       "      <th>percentile</th>\n",
       "      <th>cumulative_probability</th>\n",
       "    </tr>\n",
       "  </thead>\n",
       "  <tbody>\n",
       "    <tr>\n",
       "      <th>0</th>\n",
       "      <td>0-1499</td>\n",
       "      <td>277861</td>\n",
       "      <td>21.95</td>\n",
       "      <td>21.95</td>\n",
       "    </tr>\n",
       "    <tr>\n",
       "      <th>1</th>\n",
       "      <td>1500-2999</td>\n",
       "      <td>167344</td>\n",
       "      <td>13.22</td>\n",
       "      <td>35.17</td>\n",
       "    </tr>\n",
       "    <tr>\n",
       "      <th>2</th>\n",
       "      <td>3000-4499</td>\n",
       "      <td>227717</td>\n",
       "      <td>17.99</td>\n",
       "      <td>53.16</td>\n",
       "    </tr>\n",
       "    <tr>\n",
       "      <th>3</th>\n",
       "      <td>4500-5999</td>\n",
       "      <td>267061</td>\n",
       "      <td>21.10</td>\n",
       "      <td>74.26</td>\n",
       "    </tr>\n",
       "    <tr>\n",
       "      <th>4</th>\n",
       "      <td>6000-7499</td>\n",
       "      <td>297692</td>\n",
       "      <td>23.52</td>\n",
       "      <td>97.78</td>\n",
       "    </tr>\n",
       "    <tr>\n",
       "      <th>5</th>\n",
       "      <td>7500-8999</td>\n",
       "      <td>25380</td>\n",
       "      <td>2.00</td>\n",
       "      <td>99.78</td>\n",
       "    </tr>\n",
       "    <tr>\n",
       "      <th>6</th>\n",
       "      <td>9000-10499</td>\n",
       "      <td>2295</td>\n",
       "      <td>0.18</td>\n",
       "      <td>99.96</td>\n",
       "    </tr>\n",
       "    <tr>\n",
       "      <th>7</th>\n",
       "      <td>10500-11999</td>\n",
       "      <td>396</td>\n",
       "      <td>0.03</td>\n",
       "      <td>99.99</td>\n",
       "    </tr>\n",
       "    <tr>\n",
       "      <th>8</th>\n",
       "      <td>12000-13499</td>\n",
       "      <td>119</td>\n",
       "      <td>0.01</td>\n",
       "      <td>100.00</td>\n",
       "    </tr>\n",
       "    <tr>\n",
       "      <th>9</th>\n",
       "      <td>13500-14999</td>\n",
       "      <td>33</td>\n",
       "      <td>0.00</td>\n",
       "      <td>100.00</td>\n",
       "    </tr>\n",
       "    <tr>\n",
       "      <th>10</th>\n",
       "      <td>15000-16499</td>\n",
       "      <td>9</td>\n",
       "      <td>0.00</td>\n",
       "      <td>100.00</td>\n",
       "    </tr>\n",
       "    <tr>\n",
       "      <th>11</th>\n",
       "      <td>16500-17999</td>\n",
       "      <td>3</td>\n",
       "      <td>0.00</td>\n",
       "      <td>100.00</td>\n",
       "    </tr>\n",
       "  </tbody>\n",
       "</table>\n",
       "</div>"
      ],
      "text/plain": [
       "     rating_bin   count  percentile  cumulative_probability\n",
       "0        0-1499  277861       21.95                   21.95\n",
       "1     1500-2999  167344       13.22                   35.17\n",
       "2     3000-4499  227717       17.99                   53.16\n",
       "3     4500-5999  267061       21.10                   74.26\n",
       "4     6000-7499  297692       23.52                   97.78\n",
       "5     7500-8999   25380        2.00                   99.78\n",
       "6    9000-10499    2295        0.18                   99.96\n",
       "7   10500-11999     396        0.03                   99.99\n",
       "8   12000-13499     119        0.01                  100.00\n",
       "9   13500-14999      33        0.00                  100.00\n",
       "10  15000-16499       9        0.00                  100.00\n",
       "11  16500-17999       3        0.00                  100.00"
      ]
     },
     "execution_count": 15,
     "metadata": {},
     "output_type": "execute_result"
    }
   ],
   "source": [
    "bin_size = 1500\n",
    "\n",
    "bins = create_rating_bins(df.copy(), bin_size=bin_size)\n",
    "bins.head(20)"
   ]
  },
  {
   "cell_type": "markdown",
   "id": "abbdc66f",
   "metadata": {},
   "source": [
    "### **Figures**\n",
    "\n",
    "We can now display the graphs illustrating the rating distribution.  \n",
    "- The **left plot** is a **histogram**, showing how many players fall into each 100‑point rating interval.  \n",
    "- The **right plot** is the **cumulative distribution**, showing for any given rating the proportion of players at or below that value.\n",
    "\n",
    "Both graphs include two **vertical lines** marking key thresholds: one indicates when players become susceptible to MMR loss, and the other indicates when the previous season’s bonus no longer applies.\n"
   ]
  },
  {
   "cell_type": "code",
   "execution_count": 16,
   "id": "8739e9a8",
   "metadata": {},
   "outputs": [
    {
     "data": {
      "image/png": "[encoded data removed]",
      "text/plain": [
       "<Figure size 1500x500 with 2 Axes>"
      ]
     },
     "metadata": {},
     "output_type": "display_data"
    }
   ],
   "source": [
    "plot_rating_distribution(df)"
   ]
  }
 ],
 "metadata": {
  "kernelspec": {
   "display_name": "venv (3.13.1)",
   "language": "python",
   "name": "python3"
  },
  "language_info": {
   "codemirror_mode": {
    "name": "ipython",
    "version": 3
   },
   "file_extension": ".py",
   "mimetype": "text/x-python",
   "name": "python",
   "nbconvert_exporter": "python",
   "pygments_lexer": "ipython3",
   "version": "3.13.1"
  }
 },
 "nbformat": 4,
 "nbformat_minor": 5
}
