{
 "cells": [
  {
   "cell_type": "markdown",
   "id": "8fa058ce",
   "metadata": {},
   "source": [
    "# **How the Top Ladder has evolved since the S2 - Hearthstone Battlegrounds ?**"
   ]
  },
  {
   "cell_type": "markdown",
   "id": "48b57469",
   "metadata": {},
   "source": [
    "> ## **Introduction**\n",
    ">\n",
    "> This Jupyter notebook aims to trace the history of each Hearthstone Battlegrounds season by analyzing players who have achieved a rating of at least **8000 MMR**.\n",
    ">\n",
    "> By fetching these leaderboards via the Blizzard API and displaying them side by side, we will be able to:\n",
    ">\n",
    "> * Compare the distribution of top‑tier players across seasons\n",
    "> * Track the number of participants crossing the **8000 MMR** threshold\n",
    "> * Analyze regional dominance within the top ladder\n",
    "> * Highlight additional dynamics and evolutions of the ladder\n",
    ">\n",
    "> This holistic approach will provide a clear view of how the top ladder has evolved since Season 2, identifying key trends and standout moments from each period.\n"
   ]
  },
  {
   "cell_type": "markdown",
   "id": "d505f4e3",
   "metadata": {},
   "source": [
    "> ## Part 1: Data Concatenation\n",
    ">\n",
    "> **Objective**\n",
    ">\n",
    "> In this section, we will implement reusable functions to load, clean and merge our leaderboard data into a single consolidated dataset. By the end of this step, all regional files from each season will be concatenated in a uniform format, ready for downstream analysis.\n",
    ">\n",
    "> **Directory Structure**\n",
    ">\n",
    "> Our raw data are organized under a top‑level `data/` folder, with one subfolder per season (`s3`, `s8`, `s9`), and within each season folder, one subfolder per region (`EU`, `NA`, `AP`):\n",
    ">\n",
    "> ```text\n",
    "> data/\n",
    "> ├── s2/\n",
    "> │   ├── EU/\n",
    "> │   ├── NA/\n",
    "> │   └── AP/\n",
    "> .\n",
    "> .\n",
    "> .\n",
    "> ├── s8/\n",
    "> │   ├── EU/\n",
    "> │   ├── NA/\n",
    "> │   └── AP/\n",
    "> └── s9/\n",
    ">     ├── EU/\n",
    ">     ├── NA/\n",
    ">     └── AP/\n",
    "> ```\n",
    ">\n",
    "> We will walk through the creation of functions that traverse this structure, read each file, and concatenate them into a master DataFrame.\n"
   ]
  }
 ],
 "metadata": {
  "language_info": {
   "name": "python"
  }
 },
 "nbformat": 4,
 "nbformat_minor": 5
}
